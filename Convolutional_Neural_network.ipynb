{
 "cells": [
  {
   "cell_type": "markdown",
   "metadata": {},
   "source": [
    "# Spectogram Dataset"
   ]
  },
  {
   "cell_type": "markdown",
   "metadata": {},
   "source": [
    "## Dataset"
   ]
  },
  {
   "cell_type": "markdown",
   "metadata": {},
   "source": [
    "Here we create the dataset"
   ]
  },
  {
   "cell_type": "code",
   "execution_count": 36,
   "metadata": {},
   "outputs": [],
   "source": [
    "import os\n",
    "import pandas as pd\n",
    "import torch\n",
    "from torch import nn\n",
    "from torch.utils.data import Dataset, DataLoader\n",
    "from torchvision import transforms\n",
    "from PIL import Image\n",
    "import matplotlib.pyplot as plt\n",
    "import numpy as np\n",
    "\n",
    "\n",
    "class GTZANSpectogramDataset(Dataset):\n",
    "    def __init__(self, features_file, img_dir, transform=None, target_transform=None):\n",
    "        \"\"\"\n",
    "        Args:\n",
    "            features_file (string): Path to the csv file with features.\n",
    "            img_dir (string): Directory with all the spectrogram images.\n",
    "            transform (callable, optional): Optional transform to be applied\n",
    "                on a sample.\n",
    "        \"\"\"\n",
    "\n",
    "        # We drop the feature related to the length of the audio file\n",
    "        self.features_frame = pd.read_csv(features_file).drop('length', axis=1)         \n",
    "        self.img_dir = img_dir\n",
    "        self.transform = transform\n",
    "        self.target_transform = target_transform\n",
    "\n",
    "\n",
    "    def __len__(self):\n",
    "        return len(self.features_frame)\n",
    "\n",
    "\n",
    "    def __getitem__(self, idx):\n",
    "        # Load image data\n",
    "        while True:\n",
    "            try:\n",
    "                img_name = self.generate_gtzan_full_img_name(self.features_frame.iloc[idx, 0], self.img_dir)\n",
    "                image_rgba = Image.open(img_name)\n",
    "                break\n",
    "            except:\n",
    "                # We skip the image that we can't open\n",
    "                #print(f\"Error opening image {img_name}\")  # 'jazz.00054.png' is missing\n",
    "                idx += 1\n",
    "        image = image_rgba.convert(\"L\")    # We convert the img to greyscale\n",
    "\n",
    "        # Load label\n",
    "        label = self.features_frame.iloc[idx, -1]\n",
    "\n",
    "\n",
    "        if self.transform:\n",
    "            image = self.transform(image)\n",
    "        if self.target_transform:\n",
    "            label = self.target_transform(label)\n",
    "\n",
    "        return image, label\n",
    "\n",
    "\n",
    "    def generate_gtzan_full_img_name(self, original_img_name, img_dir):\n",
    "        \"\"\" \n",
    "            The file name in the csv is 'reggae.00019.wav', \n",
    "            we neet to change it to '\\\\reggae\\\\reggae00019.png'\n",
    "        \"\"\"\n",
    "        # We have to change the extension of the file\n",
    "        img_file_name = original_img_name.replace('.wav', '.png')\n",
    "        # To get the name of the folder we need to remove '.png' and the identifiers numbers (ex '.00000)'\n",
    "        img_folder_name = img_file_name[:-10]    \n",
    "        # Now we need to remove the '.' between 'reggae.00019'    \n",
    "        img_file_name = img_file_name[:-10] + img_file_name[-9:]    \n",
    "        # Now we can create the full path   \n",
    "        img_name = os.path.join(img_dir, img_folder_name, img_file_name)\n",
    "\n",
    "        return img_name"
   ]
  },
  {
   "cell_type": "code",
   "execution_count": 37,
   "metadata": {},
   "outputs": [],
   "source": [
    "# Path to the csv file with the features\n",
    "features_file = 'Data\\\\features_30_sec.csv'\n",
    "img_dir = 'Data\\\\images_original'"
   ]
  },
  {
   "cell_type": "markdown",
   "metadata": {},
   "source": [
    "### Custom Transformations for the dataset\n"
   ]
  },
  {
   "cell_type": "markdown",
   "metadata": {},
   "source": [
    "Here we create some custom trasnformation for our dataset\n"
   ]
  },
  {
   "cell_type": "markdown",
   "metadata": {},
   "source": [
    "This trasformation encodes the labels in a one hot vector\n"
   ]
  },
  {
   "cell_type": "code",
   "execution_count": 38,
   "metadata": {},
   "outputs": [],
   "source": [
    "class LabelToOneHotTransform:\n",
    "    def __init__(self, label_set):\n",
    "        # Map each of the first 10 letters of the alphabet to an index\n",
    "        self.label_to_index = {label: index for index, label in enumerate(label_set)}\n",
    "\n",
    "    def __call__(self, label):\n",
    "        # Initialize a one-hot encoded tensor of size 10 (for 10 classes)\n",
    "        one_hot = torch.zeros(10, dtype=torch.float)\n",
    "        # Set the appropriate position to 1 based on the label index\n",
    "        label_index = self.label_to_index[label]\n",
    "        one_hot[label_index] = 1.0\n",
    "        return one_hot\n",
    "\n",
    "\n",
    "labels = ['blues', 'classical', 'country', 'disco', 'hiphop', 'jazz',\n",
    "       'metal', 'pop', 'reggae', 'rock']\n",
    "# Example usage of the transform\n",
    "label_transform = LabelToOneHotTransform(labels)"
   ]
  },
  {
   "cell_type": "markdown",
   "metadata": {},
   "source": [
    "Here we instantiate the actual transformations\n"
   ]
  },
  {
   "cell_type": "code",
   "execution_count": 39,
   "metadata": {},
   "outputs": [],
   "source": [
    "# Example usage of the transform\n",
    "label_transform = LabelToOneHotTransform(labels)\n",
    "\n",
    "\n",
    "# This transform also normalizes\n",
    "transform_norm = transforms.Compose([\n",
    "    transforms.ToTensor(),\n",
    "    transforms.Normalize(mean=[0.466],            \n",
    "                         std=[0.459])\n",
    "])"
   ]
  },
  {
   "cell_type": "markdown",
   "metadata": {},
   "source": [
    "Here we are creating the training and test dataset\n"
   ]
  },
  {
   "cell_type": "code",
   "execution_count": 40,
   "metadata": {},
   "outputs": [],
   "source": [
    "# Create the dataset\n",
    "gtzan_dataset = GTZANSpectogramDataset(features_file=features_file, img_dir=img_dir, transform=transform_norm, target_transform=label_transform)\n",
    "# Split the dataset into training and test sets\n",
    "training_data, test_data = torch.utils.data.random_split(gtzan_dataset, [800, 200])\n",
    "\n",
    "# Create data loaders\n",
    "batch_size = 10\n",
    "train_dataloader = DataLoader(training_data, batch_size=batch_size)         # Each element in the dataloader iterable will return a batch of 64 features and labels.\n",
    "test_dataloader = DataLoader(test_data, batch_size=1) "
   ]
  },
  {
   "cell_type": "markdown",
   "metadata": {},
   "source": [
    "## Creating the Model\n"
   ]
  },
  {
   "cell_type": "markdown",
   "metadata": {},
   "source": [
    "To build this model we used the official pytorch tutorials\n"
   ]
  },
  {
   "cell_type": "markdown",
   "metadata": {},
   "source": [
    " Code for convolutional NN"
   ]
  },
  {
   "cell_type": "markdown",
   "metadata": {},
   "source": [
    "Let's calculate the size of the output from the last convolutional block before it is flattened and fed into the fully connected layer.\n",
    "\n",
    "Initial Size: 432x288\n",
    "- After 1st Pooling: Since the pooling operation halves the dimensions, after the first convolutional block, the size will be 216x144.\n",
    "- After 2nd Pooling: Halving again, the size becomes 108x72.\n",
    "- After 3rd Pooling: Further reduced to 54x36.\n",
    "- After 4th Pooling: Becomes 27x18.\n",
    "- After 5th Pooling: Finally, reduced to 13x9.\n",
    "The output feature map size just before the fully connected layer will be 13x9x256 = 29.952\n"
   ]
  },
  {
   "cell_type": "code",
   "execution_count": 41,
   "metadata": {},
   "outputs": [
    {
     "name": "stdout",
     "output_type": "stream",
     "text": [
      "Using cpu device\n",
      "ConvNet(\n",
      "  (conv_layers): Sequential(\n",
      "    (0): Conv2d(1, 16, kernel_size=(3, 3), stride=(1, 1), padding=same)\n",
      "    (1): ReLU()\n",
      "    (2): MaxPool2d(kernel_size=2, stride=2, padding=0, dilation=1, ceil_mode=False)\n",
      "    (3): Dropout(p=0.2, inplace=False)\n",
      "    (4): Conv2d(16, 32, kernel_size=(3, 3), stride=(1, 1), padding=same)\n",
      "    (5): ReLU()\n",
      "    (6): MaxPool2d(kernel_size=2, stride=2, padding=0, dilation=1, ceil_mode=False)\n",
      "    (7): Dropout(p=0.2, inplace=False)\n",
      "    (8): Conv2d(32, 64, kernel_size=(3, 3), stride=(1, 1), padding=same)\n",
      "    (9): ReLU()\n",
      "    (10): MaxPool2d(kernel_size=2, stride=2, padding=0, dilation=1, ceil_mode=False)\n",
      "    (11): Dropout(p=0.2, inplace=False)\n",
      "    (12): Conv2d(64, 128, kernel_size=(3, 3), stride=(1, 1), padding=same)\n",
      "    (13): ReLU()\n",
      "    (14): MaxPool2d(kernel_size=2, stride=2, padding=0, dilation=1, ceil_mode=False)\n",
      "    (15): Dropout(p=0.2, inplace=False)\n",
      "    (16): Conv2d(128, 256, kernel_size=(3, 3), stride=(1, 1), padding=same)\n",
      "    (17): ReLU()\n",
      "    (18): MaxPool2d(kernel_size=2, stride=2, padding=0, dilation=1, ceil_mode=False)\n",
      "    (19): Dropout(p=0.2, inplace=False)\n",
      "  )\n",
      "  (flatten): Flatten(start_dim=1, end_dim=-1)\n",
      "  (fc_dropout): Dropout(p=0.5, inplace=False)\n",
      "  (fc): Linear(in_features=29952, out_features=10, bias=True)\n",
      ")\n"
     ]
    }
   ],
   "source": [
    "# Get cpu, gpu or mps device for training.\n",
    "device = (\n",
    "    \"cuda\"\n",
    "    if torch.cuda.is_available()\n",
    "    else \"mps\"\n",
    "    if torch.backends.mps.is_available()\n",
    "    else \"cpu\"\n",
    ")\n",
    "print(f\"Using {device} device\")\n",
    "\n",
    "\n",
    "# Define model\n",
    "class ConvNet(nn.Module):\n",
    "    def __init__(self):\n",
    "        super().__init__()\n",
    "        # Input layer is defined implicitly by the input size of the first convolutional layer\n",
    "        \n",
    "        # Convolutional blocks\n",
    "        self.conv_layers = nn.Sequential(\n",
    "            # Block 1: Conv -> ReLU -> MaxPool -> Dropout\n",
    "            nn.Conv2d(in_channels=1, out_channels=16, kernel_size=3, stride=1, padding='same'),\n",
    "            nn.ReLU(),\n",
    "            nn.MaxPool2d(kernel_size=2, stride=2),\n",
    "            nn.Dropout(0.2),\n",
    "            \n",
    "            # Block 2: Conv -> ReLU -> MaxPool -> Dropout\n",
    "            nn.Conv2d(in_channels=16, out_channels=32, kernel_size=3, stride=1, padding='same'),\n",
    "            nn.ReLU(),\n",
    "            nn.MaxPool2d(kernel_size=2, stride=2),\n",
    "            nn.Dropout(0.2),\n",
    "            \n",
    "            # Block 3: Conv -> ReLU -> MaxPool -> Dropout\n",
    "            nn.Conv2d(in_channels=32, out_channels=64, kernel_size=3, stride=1, padding='same'),\n",
    "            nn.ReLU(),\n",
    "            nn.MaxPool2d(kernel_size=2, stride=2),\n",
    "            nn.Dropout(0.2),\n",
    "            \n",
    "            # Block 4: Conv -> ReLU -> MaxPool -> Dropout\n",
    "            nn.Conv2d(in_channels=64, out_channels=128, kernel_size=3, stride=1, padding='same'),\n",
    "            nn.ReLU(),\n",
    "            nn.MaxPool2d(kernel_size=2, stride=2),\n",
    "            nn.Dropout(0.2),\n",
    "            \n",
    "            # Block 5: Conv -> ReLU -> MaxPool -> Dropout\n",
    "            nn.Conv2d(in_channels=128, out_channels=256, kernel_size=3, stride=1, padding='same'),\n",
    "            nn.ReLU(),\n",
    "            nn.MaxPool2d(kernel_size=2, stride=2),\n",
    "            nn.Dropout(0.2),\n",
    "        )\n",
    "        \n",
    "        # Flatten the output of the last convolutional block\n",
    "        self.flatten = nn.Flatten()  \n",
    "\n",
    "        # Fully connected layer\n",
    "        self.fc_dropout = nn.Dropout(0.5)  # Dropout before the fully connected layer\n",
    "        self.fc = nn.Linear(29952, 10)       # Assuming the final spatial size is 1x1\n",
    "        \n",
    "    def forward(self, x):\n",
    "        x = self.conv_layers(x)\n",
    "        x = self.flatten(x)\n",
    "        x = self.fc_dropout(x)\n",
    "        logits = self.fc(x)\n",
    "        return logits\n",
    "    \n",
    "\n",
    "# Our model\n",
    "model = ConvNet().to(device)\n",
    "print(model)"
   ]
  },
  {
   "cell_type": "markdown",
   "metadata": {},
   "source": [
    "## Training the model\n"
   ]
  },
  {
   "cell_type": "markdown",
   "metadata": {},
   "source": [
    "Here we choose the optimizers\n"
   ]
  },
  {
   "cell_type": "code",
   "execution_count": 42,
   "metadata": {},
   "outputs": [],
   "source": [
    "loss_fn = nn.CrossEntropyLoss()\n",
    "optimizer = torch.optim.Adam(model.parameters(), lr=1e-4)"
   ]
  },
  {
   "cell_type": "markdown",
   "metadata": {},
   "source": [
    "Training loop: the model makes predictions on the training dataset (fed to it in batches), and\n",
    "backpropagates the prediction error to adjust the model's parameters.  (code from the official pytorch tutorials)"
   ]
  },
  {
   "cell_type": "code",
   "execution_count": 43,
   "metadata": {},
   "outputs": [],
   "source": [
    "def train(dataloader, model, loss_fn, optimizer):\n",
    "    size = len(dataloader.dataset)\n",
    "\n",
    "    # Sets the model in 'training' mode\n",
    "    model.train()                                        #  This helps inform layers such as Dropout and BatchNorm, which are\n",
    "                                                         #   designed to behave differently during training and evaluation.\n",
    "    for batch, (X, y) in enumerate(dataloader):\n",
    "        X, y = X.to(device), y.to(device)               # '.to(device)' allows you to move the data to the device you are using (ex. GPU memory)\n",
    "\n",
    "        # Compute prediction error\n",
    "        pred = model(X)\n",
    "        loss = loss_fn(pred, y)\n",
    "\n",
    "        # Backpropagation\n",
    "        loss.backward()\n",
    "        optimizer.step()\n",
    "        optimizer.zero_grad()                            # This command resets the gradients (pytorch acumulates them by default)\n",
    "\n",
    "\n",
    "    print(f\"loss: {loss:>7f}\")\n",
    "    return loss.item()            # print(f\"loss: {loss:>7f}  [{current:>5d}/{size:>5d}]\")"
   ]
  },
  {
   "cell_type": "markdown",
   "metadata": {},
   "source": [
    "We also check the model's performance against the test dataset to ensure it is learning.\n"
   ]
  },
  {
   "cell_type": "code",
   "execution_count": 44,
   "metadata": {},
   "outputs": [],
   "source": [
    "def test_loss(dataloader, model, loss_fn):\n",
    "    size = len(dataloader.dataset)\n",
    "    num_batches = len(dataloader)                   # c'e' un problema, il batch è 10!!!\n",
    "\n",
    "    # Sets the model in 'evaluation' mode\n",
    "    model.eval()\n",
    "\n",
    "    test_loss = 0\n",
    "\n",
    "    # Temporarily disable gradients computation\n",
    "    with torch.no_grad():                                 # This disables the memorization of the activation functions during the forward pass\n",
    "        for X, y in dataloader:                           #  (they are used in the backprop phase to compute the gradients)\n",
    "            X, y = X.to(device), y.to(device)     \n",
    "            pred = model(X)\n",
    "            test_loss += loss_fn(pred, y).item()\n",
    "\n",
    "    test_loss /= num_batches\n",
    "    return test_loss"
   ]
  },
  {
   "cell_type": "code",
   "execution_count": 45,
   "metadata": {},
   "outputs": [],
   "source": [
    "def test_accuracy(dataloader, model):\n",
    "    size = len(dataloader.dataset)\n",
    "\n",
    "\n",
    "    # Sets the model in 'evaluation' mode\n",
    "    model.eval()\n",
    "\n",
    "    correct = 0\n",
    "\n",
    "    # Temporarily disable gradients computation\n",
    "    with torch.no_grad():                                 # This disables the memorization of the activation functions during the forward pass\n",
    "        for X, y in dataloader:                           #  (they are used in the backprop phase to compute the gradients)\n",
    "            X, y = X.to(device), y.to(device)     \n",
    "            pred = model(X)\n",
    "            correct += (torch.argmax(pred) == torch.argmax(y)).item()     # The prediction is the argmax of the last layer\n",
    "    correct /= size \n",
    "    return correct\n",
    "\n",
    "    print(f\"Test Error: \\n Accuracy: {(100*correct):>0.1f}%\")\n",
    "    # return correct"
   ]
  },
  {
   "cell_type": "markdown",
   "metadata": {},
   "source": [
    "Training process"
   ]
  },
  {
   "cell_type": "code",
   "execution_count": 46,
   "metadata": {},
   "outputs": [
    {
     "name": "stdout",
     "output_type": "stream",
     "text": [
      "Epoch 1\n",
      "-------------------------------\n",
      "loss: 2.298805\n",
      "Epoch 2\n",
      "-------------------------------\n",
      "loss: 2.289727\n",
      "Done!\n",
      "13.50%\n"
     ]
    },
    {
     "data": {
      "text/plain": [
       "<matplotlib.legend.Legend at 0x2089a356d10>"
      ]
     },
     "execution_count": 46,
     "metadata": {},
     "output_type": "execute_result"
    },
    {
     "data": {
      "image/png": "[encoded data removed]",
      "text/plain": [
       "<Figure size 1000x500 with 2 Axes>"
      ]
     },
     "metadata": {},
     "output_type": "display_data"
    }
   ],
   "source": [
    "epochs = 200\n",
    "\n",
    "# Histories\n",
    "train_history = list()\n",
    "validation_history = list()\n",
    "accuracy_test_history = list()\n",
    "\n",
    "# Training loop\n",
    "for t in range(epochs):\n",
    "    print(f\"Epoch {t+1}\\n-------------------------------\")\n",
    "    train_loss = train(train_dataloader, model, loss_fn, optimizer)\n",
    "    validation_loss = test_loss(test_dataloader, model, loss_fn)\n",
    "\n",
    "\n",
    "    train_history.append(train_loss)\n",
    "    validation_history.append(validation_loss)\n",
    "    accuracy_test_history.append(test_accuracy(test_dataloader, model))\n",
    "print(\"Done!\")\n",
    "\n",
    "print(f\"{test_accuracy(test_dataloader, model)*100:.2f}%\")\n",
    "\n",
    "\n",
    "# Plots\n",
    "fig, axs = plt.subplots(1,2, figsize=(10, 5))\n",
    "\n",
    "# Training and validation loss\n",
    "axs[0].plot(train_history, label = 'train')\n",
    "axs[0].plot(validation_history, label = 'validation')\n",
    "axs[0].set_xlabel(\"epoch\")\n",
    "axs[0].set_ylabel(\"loss\")\n",
    "axs[0].set_title(\"Training and validation loss\")\n",
    "axs[0].legend()\n",
    "\n",
    "# Accuracy\n",
    "axs[1].plot(accuracy_test_history, label = 'test accuracy')\n",
    "axs[1].set_xlabel(\"epoch\")\n",
    "axs[1].set_ylabel(\"accuracy\")\n",
    "axs[1].set_title(\"Test accuracy\")\n",
    "axs[1].legend()"
   ]
  },
  {
   "cell_type": "markdown",
   "metadata": {},
   "source": [
    "# Saving the models"
   ]
  },
  {
   "cell_type": "markdown",
   "metadata": {},
   "source": [
    "This code saves the full model:"
   ]
  },
  {
   "cell_type": "code",
   "execution_count": null,
   "metadata": {},
   "outputs": [],
   "source": [
    "torch.save(model, 'models\\\\model_weights_conv.pth')"
   ]
  },
  {
   "cell_type": "markdown",
   "metadata": {},
   "source": [
    "To Load and use the model do:"
   ]
  },
  {
   "cell_type": "code",
   "execution_count": null,
   "metadata": {},
   "outputs": [],
   "source": [
    "model = torch.load('models\\\\model_weights_conv.pth')\n",
    "model.eval()  # Set the model to evaluation mode"
   ]
  }
 ],
 "metadata": {
  "kernelspec": {
   "display_name": "SublimeTextEnv",
   "language": "python",
   "name": "python3"
  },
  "language_info": {
   "codemirror_mode": {
    "name": "ipython",
    "version": 3
   },
   "file_extension": ".py",
   "mimetype": "text/x-python",
   "name": "python",
   "nbconvert_exporter": "python",
   "pygments_lexer": "ipython3",
   "version": "3.11.5"
  }
 },
 "nbformat": 4,
 "nbformat_minor": 2
}
