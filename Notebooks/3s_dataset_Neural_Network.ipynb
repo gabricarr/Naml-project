{
 "cells": [
  {
   "cell_type": "markdown",
   "metadata": {},
   "source": [
    "# 3s Dataset"
   ]
  },
  {
   "cell_type": "markdown",
   "metadata": {},
   "source": [
    "## Dataset"
   ]
  },
  {
   "cell_type": "code",
   "execution_count": 1,
   "metadata": {},
   "outputs": [],
   "source": [
    "import os\n",
    "import pandas as pd\n",
    "import torch\n",
    "from torch import nn\n",
    "from torch.utils.data import Dataset, DataLoader\n",
    "from torchvision import transforms\n",
    "from PIL import Image\n",
    "import matplotlib.pyplot as plt\n",
    "import numpy as np\n",
    "   \n",
    "from utils.custom_datasets import *  \n",
    "from utils.utils_functions import *"
   ]
  },
  {
   "cell_type": "code",
   "execution_count": 2,
   "metadata": {},
   "outputs": [],
   "source": [
    "# Path to the csv file with the features\n",
    "features_file = 'Data\\\\features_3_sec.csv'"
   ]
  },
  {
   "cell_type": "markdown",
   "metadata": {},
   "source": [
    "### Custom Transformations for the dataset"
   ]
  },
  {
   "cell_type": "markdown",
   "metadata": {},
   "source": [
    "Here we create some custom trasnformation for our dataset"
   ]
  },
  {
   "cell_type": "code",
   "execution_count": 3,
   "metadata": {},
   "outputs": [],
   "source": [
    "# Here we compute the mean and the std of the features\n",
    "data = pd.read_csv(features_file).drop(columns=['filename', 'length', 'label'])\n",
    "mean = data.mean().to_numpy()\n",
    "std = data.std().to_numpy()\n",
    "\n",
    "custom_norm = CustomNormalize(mean=mean, std=std)"
   ]
  },
  {
   "cell_type": "markdown",
   "metadata": {},
   "source": [
    "This trasformation encodes the labels in a one hot vector"
   ]
  },
  {
   "cell_type": "code",
   "execution_count": 4,
   "metadata": {},
   "outputs": [],
   "source": [
    "labels = ['blues', 'classical', 'country', 'disco', 'hiphop', 'jazz',\n",
    "       'metal', 'pop', 'reggae', 'rock']\n",
    "# Example usage of the transform\n",
    "label_transform = LabelTransform(labels)"
   ]
  },
  {
   "cell_type": "markdown",
   "metadata": {},
   "source": [
    "Here we instantiate the actual transformations"
   ]
  },
  {
   "cell_type": "code",
   "execution_count": 5,
   "metadata": {},
   "outputs": [],
   "source": [
    "# Define a transform to convert the images to tensors and normalize them\n",
    "target_transform = label_transform\n",
    "\n",
    "transform_norm = custom_norm"
   ]
  },
  {
   "cell_type": "markdown",
   "metadata": {},
   "source": [
    "Here we are creating the training and test dataset\n"
   ]
  },
  {
   "cell_type": "code",
   "execution_count": 6,
   "metadata": {},
   "outputs": [],
   "source": [
    "# Create the dataset\n",
    "gtzan_dataset = GTZANFeaturesDataset(features_file=features_file, transform=transform_norm, target_transform=target_transform)\n",
    "\n",
    "# Split the dataset into training and test sets\n",
    "training_data, test_data = torch.utils.data.random_split(gtzan_dataset, [8000, 1990])\n",
    "\n",
    "# Create data loaders\n",
    "batch_size = 100\n",
    "shuffle = True\n",
    "train_dataloader = DataLoader(training_data, batch_size=batch_size, shuffle=shuffle)         # Each element in the dataloader iterable will return a batch of 64 features and labels.\n",
    "test_dataloader = DataLoader(test_data, batch_size=batch_size, shuffle=shuffle)                       # We need to use a batch size of 1 to test the model!!!"
   ]
  },
  {
   "cell_type": "markdown",
   "metadata": {},
   "source": [
    "## Creating the Model"
   ]
  },
  {
   "cell_type": "markdown",
   "metadata": {},
   "source": [
    "To build this model we used the official pytorch tutorials"
   ]
  },
  {
   "cell_type": "code",
   "execution_count": 7,
   "metadata": {},
   "outputs": [
    {
     "name": "stdout",
     "output_type": "stream",
     "text": [
      "Using cpu device\n",
      "NeuralNetwork(\n",
      "  (linear_relu_stack): Sequential(\n",
      "    (0): Linear(in_features=57, out_features=512, bias=True)\n",
      "    (1): ReLU()\n",
      "    (2): Dropout(p=0.2, inplace=False)\n",
      "    (3): Linear(in_features=512, out_features=256, bias=True)\n",
      "    (4): ReLU()\n",
      "    (5): Dropout(p=0.2, inplace=False)\n",
      "    (6): Linear(in_features=256, out_features=128, bias=True)\n",
      "    (7): ReLU()\n",
      "    (8): Dropout(p=0.2, inplace=False)\n",
      "    (9): Linear(in_features=128, out_features=64, bias=True)\n",
      "    (10): ReLU()\n",
      "    (11): Dropout(p=0.5, inplace=False)\n",
      "    (12): Linear(in_features=64, out_features=10, bias=True)\n",
      "  )\n",
      ")\n"
     ]
    }
   ],
   "source": [
    "# Get cpu, gpu or mps device for training.\n",
    "device = (\n",
    "    \"cuda\"\n",
    "    if torch.cuda.is_available()\n",
    "    else \"mps\"\n",
    "    if torch.backends.mps.is_available()\n",
    "    else \"cpu\"\n",
    ")\n",
    "print(f\"Using {device} device\")\n",
    "\n",
    "\n",
    "# Define model\n",
    "class NeuralNetwork(nn.Module):\n",
    "    def __init__(self):\n",
    "        super().__init__()\n",
    "\n",
    "        # 4 Hidden layers\n",
    "        self.linear_relu_stack = nn.Sequential(\n",
    "            nn.Linear(57, 512),\n",
    "            nn.ReLU(),\n",
    "            nn.Dropout(0.2),\n",
    "            nn.Linear(512, 256),\n",
    "            nn.ReLU(),\n",
    "            nn.Dropout(0.2),\n",
    "            nn.Linear(256, 128),\n",
    "            nn.ReLU(),\n",
    "            nn.Dropout(0.2),\n",
    "            nn.Linear(128, 64),\n",
    "            nn.ReLU(),\n",
    "            nn.Dropout(0.5),\n",
    "            nn.Linear(64, 10),\n",
    "        )\n",
    "\n",
    "    # Here we define the behaviour of the forward pass\n",
    "    def forward(self, x):                           \n",
    "        logits = self.linear_relu_stack(x)               # 'logits' are the raw output of the final layer in the NN\n",
    "        return logits                                    #  (the pre activations of the last layer before applying the last activation function (like softmax))\n",
    "\n",
    "\n",
    "# Our model\n",
    "model = NeuralNetwork().to(device)\n",
    "print(model)"
   ]
  },
  {
   "cell_type": "markdown",
   "metadata": {},
   "source": [
    "## Training the model"
   ]
  },
  {
   "cell_type": "markdown",
   "metadata": {},
   "source": [
    "Here we choose the optimizers"
   ]
  },
  {
   "cell_type": "code",
   "execution_count": 8,
   "metadata": {},
   "outputs": [],
   "source": [
    "loss_fn = nn.CrossEntropyLoss()              # This performs softmax internally\n",
    "optimizer = torch.optim.AdamW(model.parameters(), lr=1e-3, weight_decay=1e-4)"
   ]
  },
  {
   "cell_type": "markdown",
   "metadata": {},
   "source": [
    "Training process"
   ]
  },
  {
   "cell_type": "code",
   "execution_count": 9,
   "metadata": {},
   "outputs": [
    {
     "name": "stdout",
     "output_type": "stream",
     "text": [
      "Epoch 1\n",
      "loss: 1.370744\n",
      "-------------------------------\n",
      "Epoch 2\n",
      "loss: 1.108813\n",
      "-------------------------------\n",
      "Epoch 3\n",
      "loss: 0.905075\n",
      "-------------------------------\n",
      "Epoch 4\n",
      "loss: 1.044616\n",
      "-------------------------------\n",
      "Epoch 5\n",
      "loss: 0.594859\n",
      "-------------------------------\n",
      "Epoch 6\n",
      "loss: 0.482576\n",
      "-------------------------------\n",
      "Epoch 7\n",
      "loss: 0.659158\n",
      "-------------------------------\n",
      "Epoch 8\n",
      "loss: 0.616205\n",
      "-------------------------------\n",
      "Epoch 9\n",
      "loss: 0.652014\n",
      "-------------------------------\n",
      "Epoch 10\n",
      "loss: 0.350793\n",
      "-------------------------------\n",
      "Epoch 11\n",
      "loss: 0.438585\n",
      "-------------------------------\n",
      "Epoch 12\n",
      "loss: 0.382318\n",
      "-------------------------------\n",
      "Epoch 13\n",
      "loss: 0.314104\n",
      "-------------------------------\n",
      "Epoch 14\n",
      "loss: 0.202284\n",
      "-------------------------------\n",
      "Epoch 15\n",
      "loss: 0.341799\n",
      "-------------------------------\n",
      "Epoch 16\n",
      "loss: 0.276389\n",
      "-------------------------------\n",
      "Epoch 17\n",
      "loss: 0.233624\n",
      "-------------------------------\n",
      "Epoch 18\n",
      "loss: 0.269338\n",
      "-------------------------------\n",
      "Epoch 19\n",
      "loss: 0.285633\n",
      "-------------------------------\n",
      "Epoch 20\n",
      "loss: 0.333261\n",
      "-------------------------------\n",
      "Epoch 21\n",
      "loss: 0.239123\n",
      "-------------------------------\n",
      "Epoch 22\n",
      "loss: 0.254599\n",
      "-------------------------------\n",
      "Epoch 23\n",
      "loss: 0.221961\n",
      "-------------------------------\n",
      "Epoch 24\n",
      "loss: 0.136705\n",
      "-------------------------------\n",
      "Epoch 25\n",
      "loss: 0.181387\n",
      "-------------------------------\n",
      "Epoch 26\n",
      "loss: 0.155109\n",
      "-------------------------------\n",
      "Epoch 27\n",
      "loss: 0.140027\n",
      "-------------------------------\n",
      "Epoch 28\n",
      "loss: 0.148658\n",
      "-------------------------------\n",
      "Epoch 29\n",
      "loss: 0.205941\n",
      "-------------------------------\n",
      "Epoch 30\n",
      "loss: 0.099402\n",
      "-------------------------------\n",
      "Epoch 31\n",
      "loss: 0.246906\n",
      "-------------------------------\n",
      "Epoch 32\n",
      "loss: 0.151272\n",
      "-------------------------------\n",
      "Epoch 33\n",
      "loss: 0.052500\n",
      "-------------------------------\n",
      "Epoch 34\n",
      "loss: 0.142195\n",
      "-------------------------------\n",
      "Epoch 35\n",
      "loss: 0.108653\n",
      "-------------------------------\n",
      "Epoch 36\n",
      "loss: 0.148010\n",
      "-------------------------------\n",
      "Epoch 37\n",
      "loss: 0.040893\n",
      "-------------------------------\n",
      "Epoch 38\n",
      "loss: 0.112041\n",
      "-------------------------------\n",
      "Epoch 39\n",
      "loss: 0.101514\n",
      "-------------------------------\n",
      "Epoch 40\n",
      "loss: 0.084957\n",
      "-------------------------------\n",
      "Epoch 41\n",
      "loss: 0.073851\n",
      "-------------------------------\n",
      "Epoch 42\n",
      "loss: 0.117809\n",
      "-------------------------------\n",
      "Epoch 43\n",
      "loss: 0.029289\n",
      "-------------------------------\n",
      "Epoch 44\n",
      "loss: 0.061250\n",
      "-------------------------------\n",
      "Epoch 45\n",
      "loss: 0.050297\n",
      "-------------------------------\n",
      "Epoch 46\n",
      "loss: 0.124473\n",
      "-------------------------------\n",
      "Epoch 47\n",
      "loss: 0.097482\n",
      "-------------------------------\n",
      "Epoch 48\n",
      "loss: 0.054450\n",
      "-------------------------------\n",
      "Epoch 49\n",
      "loss: 0.037440\n",
      "-------------------------------\n",
      "Epoch 50\n",
      "loss: 0.115087\n",
      "-------------------------------\n",
      "Done!\n",
      "92.06%\n"
     ]
    },
    {
     "data": {
      "text/plain": [
       "<matplotlib.legend.Legend at 0x1ee3b276190>"
      ]
     },
     "execution_count": 9,
     "metadata": {},
     "output_type": "execute_result"
    },
    {
     "data": {
      "image/png": "[encoded data removed]",
      "text/plain": [
       "<Figure size 1000x500 with 2 Axes>"
      ]
     },
     "metadata": {},
     "output_type": "display_data"
    }
   ],
   "source": [
    "epochs = 50\n",
    "\n",
    "# Histories\n",
    "train_history = list()\n",
    "validation_history = list()\n",
    "accuracy_test_history = list()\n",
    "accuracy_train_history = list()\n",
    "\n",
    "# Training loop\n",
    "for t in range(epochs):\n",
    "    print(f\"Epoch {t+1}\")\n",
    "    train_loss = train(train_dataloader, model, loss_fn, optimizer, device)\n",
    "    validation_loss = test_loss(test_dataloader, model, loss_fn, device)\n",
    "\n",
    "\n",
    "    train_history.append(train_loss)\n",
    "    validation_history.append(validation_loss)\n",
    "    accuracy_test_history.append(test_accuracy(test_dataloader, model, device))\n",
    "    accuracy_train_history.append(test_accuracy(train_dataloader, model, device))\n",
    "    print(\"-------------------------------\")\n",
    "    \n",
    "print(\"Done!\")\n",
    "\n",
    "print(f\"{test_accuracy(test_dataloader, model, device)*100:.2f}%\")\n",
    "\n",
    "\n",
    "# Plots\n",
    "fig, axs = plt.subplots(1,2, figsize=(10, 5))\n",
    "\n",
    "# Training and validation loss\n",
    "axs[0].plot(train_history, label = 'train')\n",
    "axs[0].plot(validation_history, label = 'validation')\n",
    "axs[0].set_xlabel(\"epoch\")\n",
    "axs[0].set_ylabel(\"loss\")\n",
    "axs[0].set_title(\"Training and validation loss\")\n",
    "axs[0].legend()\n",
    "\n",
    "# Accuracy\n",
    "axs[1].plot(accuracy_test_history, label = 'test accuracy')\n",
    "axs[1].plot(accuracy_train_history, label = 'train accuracy')\n",
    "axs[1].set_xlabel(\"epoch\")\n",
    "axs[1].set_ylabel(\"accuracy\")\n",
    "axs[1].set_title(\"Test accuracy\")\n",
    "axs[1].legend()"
   ]
  },
  {
   "cell_type": "markdown",
   "metadata": {},
   "source": [
    "# Saving the models"
   ]
  },
  {
   "cell_type": "markdown",
   "metadata": {},
   "source": [
    "This code saves the full model:"
   ]
  },
  {
   "cell_type": "code",
   "execution_count": 10,
   "metadata": {},
   "outputs": [],
   "source": [
    "torch.save(model, 'models\\\\model_weights_3_s.pth')"
   ]
  },
  {
   "cell_type": "markdown",
   "metadata": {},
   "source": [
    "To Load and use the model do:"
   ]
  },
  {
   "cell_type": "code",
   "execution_count": 11,
   "metadata": {},
   "outputs": [],
   "source": [
    "model = torch.load('models\\\\model_weights_3_s.pth')\n",
    "#model.eval()  # Set the model to evaluation mode"
   ]
  }
 ],
 "metadata": {
  "kernelspec": {
   "display_name": "SublimeTextEnv",
   "language": "python",
   "name": "python3"
  },
  "language_info": {
   "codemirror_mode": {
    "name": "ipython",
    "version": 3
   },
   "file_extension": ".py",
   "mimetype": "text/x-python",
   "name": "python",
   "nbconvert_exporter": "python",
   "pygments_lexer": "ipython3",
   "version": "0.0.0"
  }
 },
 "nbformat": 4,
 "nbformat_minor": 2
}
