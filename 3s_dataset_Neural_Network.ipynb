{
 "cells": [
  {
   "cell_type": "markdown",
   "metadata": {},
   "source": [
    "# 3s Dataset"
   ]
  },
  {
   "cell_type": "markdown",
   "metadata": {},
   "source": [
    "## Dataset"
   ]
  },
  {
   "cell_type": "markdown",
   "metadata": {},
   "source": [
    "Here we create the dataset"
   ]
  },
  {
   "cell_type": "code",
   "execution_count": 29,
   "metadata": {},
   "outputs": [],
   "source": [
    "import os\n",
    "import pandas as pd\n",
    "import torch\n",
    "from torch import nn\n",
    "from torch.utils.data import Dataset, DataLoader\n",
    "from torchvision import transforms\n",
    "from PIL import Image\n",
    "import matplotlib.pyplot as plt\n",
    "import numpy as np\n",
    "   \n",
    "class GTZANFeaturesDataset(Dataset):\n",
    "    def __init__(self, features_file, transform=None, target_transform=None):\n",
    "        \"\"\"\n",
    "        Args:\n",
    "            features_file (string): Path to the csv file with features.\n",
    "            img_dir (string): Directory with all the spectrogram images.\n",
    "            transform (callable, optional): Optional transform to be applied\n",
    "                on a sample.\n",
    "        \"\"\"\n",
    "\n",
    "        # We drop the feature related to the length of the audio file\n",
    "        self.features_frame = pd.read_csv(features_file).drop('length', axis=1)         \n",
    "        self.transform = transform\n",
    "        self.target_transform = target_transform\n",
    "\n",
    "\n",
    "    def __len__(self):\n",
    "        return len(self.features_frame)\n",
    "\n",
    "\n",
    "    def __getitem__(self, idx):\n",
    "        # Load features\n",
    "        features = self.features_frame.iloc[idx, 1:-1].to_numpy()\n",
    "        #print(features.shape)\n",
    "        features = features.astype('float')#.reshape(-1, 1)\n",
    "\n",
    "        # Load label\n",
    "        label = self.features_frame.iloc[idx, -1]\n",
    "\n",
    "\n",
    "        if self.transform:\n",
    "            features = self.transform(features)\n",
    "        if self.target_transform:\n",
    "            label = self.target_transform(label)\n",
    "\n",
    "        # print(features.shape, label.shape)\n",
    "        return features.float(), label"
   ]
  },
  {
   "cell_type": "code",
   "execution_count": 30,
   "metadata": {},
   "outputs": [],
   "source": [
    "# Path to the csv file with the features\n",
    "features_file = 'Data\\\\features_3_sec.csv'"
   ]
  },
  {
   "cell_type": "markdown",
   "metadata": {},
   "source": [
    "### Custom Transformations for the dataset"
   ]
  },
  {
   "cell_type": "markdown",
   "metadata": {},
   "source": [
    "Here we create some custom trasnformation for our dataset"
   ]
  },
  {
   "cell_type": "code",
   "execution_count": 31,
   "metadata": {},
   "outputs": [],
   "source": [
    "# This is a custom transform to normalize the features\n",
    "\n",
    "class CustomNormalize:\n",
    "    def __init__(self, mean, std):\n",
    "        self.mean = mean\n",
    "        self.std = std\n",
    "\n",
    "    def __call__(self, numpy_array):\n",
    "        normalized_data = (numpy_array - self.mean) / self.std\n",
    "\n",
    "        tensor = torch.from_numpy(normalized_data)\n",
    "        return tensor\n",
    "    \n",
    "\n",
    "# Here we compute the mean and the std of the features\n",
    "data = pd.read_csv(features_file).drop(columns=['filename', 'length', 'label'])\n",
    "mean = data.mean().to_numpy()\n",
    "std = data.std().to_numpy()\n",
    "\n",
    "custom_norm = CustomNormalize(mean=mean, std=std)"
   ]
  },
  {
   "cell_type": "markdown",
   "metadata": {},
   "source": [
    "This trasformation encodes the labels in a one hot vector"
   ]
  },
  {
   "cell_type": "code",
   "execution_count": 32,
   "metadata": {},
   "outputs": [],
   "source": [
    "class LabelTransform:\n",
    "    def __init__(self, label_set):\n",
    "        # Map each of the first 10 letters of the alphabet to an index\n",
    "        self.label_to_index = {label: index for index, label in enumerate(label_set)}\n",
    "\n",
    "    def __call__(self, label):\n",
    "        # Initialize a one-hot encoded tensor of size 10 (for 10 classes)\n",
    "        one_hot = torch.zeros(10, dtype=torch.float)\n",
    "        # Set the appropriate position to 1 based on the label index\n",
    "        label_index = self.label_to_index[label]\n",
    "        one_hot[label_index] = 1.0\n",
    "        # return one_hot\n",
    "        return self.label_to_index[label]\n",
    "    \n",
    "\n",
    "labels = ['blues', 'classical', 'country', 'disco', 'hiphop', 'jazz',\n",
    "       'metal', 'pop', 'reggae', 'rock']\n",
    "# Example usage of the transform\n",
    "label_transform = LabelTransform(labels)\n"
   ]
  },
  {
   "cell_type": "markdown",
   "metadata": {},
   "source": [
    "Here we instantiate the actual transformations"
   ]
  },
  {
   "cell_type": "code",
   "execution_count": 33,
   "metadata": {},
   "outputs": [],
   "source": [
    "# Define a transform to convert the images to tensors and normalize them\n",
    "target_transform = label_transform\n",
    "\n",
    "\n",
    "transform_norm = custom_norm"
   ]
  },
  {
   "cell_type": "markdown",
   "metadata": {},
   "source": [
    "Here we are creating the training and test dataset\n"
   ]
  },
  {
   "cell_type": "code",
   "execution_count": 34,
   "metadata": {},
   "outputs": [],
   "source": [
    "# Create the dataset\n",
    "gtzan_dataset = GTZANFeaturesDataset(features_file=features_file, transform=transform_norm, target_transform=target_transform)\n",
    "\n",
    "# Split the dataset into training and test sets\n",
    "training_data, test_data = torch.utils.data.random_split(gtzan_dataset, [8000, 1990])\n",
    "\n",
    "# Create data loaders\n",
    "batch_size = 100\n",
    "shuffle = True\n",
    "train_dataloader = DataLoader(training_data, batch_size=batch_size, shuffle=shuffle)         # Each element in the dataloader iterable will return a batch of 64 features and labels.\n",
    "test_dataloader = DataLoader(test_data, batch_size=batch_size, shuffle=shuffle)                       # We need to use a batch size of 1 to test the model!!!"
   ]
  },
  {
   "cell_type": "markdown",
   "metadata": {},
   "source": [
    "## Creating the Model"
   ]
  },
  {
   "cell_type": "markdown",
   "metadata": {},
   "source": [
    "To build this model we used the official pytorch tutorials"
   ]
  },
  {
   "cell_type": "code",
   "execution_count": 35,
   "metadata": {},
   "outputs": [
    {
     "name": "stdout",
     "output_type": "stream",
     "text": [
      "Using cpu device\n",
      "NeuralNetwork(\n",
      "  (flatten): Flatten(start_dim=1, end_dim=-1)\n",
      "  (linear_relu_stack): Sequential(\n",
      "    (0): Linear(in_features=57, out_features=512, bias=True)\n",
      "    (1): ReLU()\n",
      "    (2): Dropout(p=0.2, inplace=False)\n",
      "    (3): Linear(in_features=512, out_features=256, bias=True)\n",
      "    (4): ReLU()\n",
      "    (5): Dropout(p=0.2, inplace=False)\n",
      "    (6): Linear(in_features=256, out_features=128, bias=True)\n",
      "    (7): ReLU()\n",
      "    (8): Dropout(p=0.2, inplace=False)\n",
      "    (9): Linear(in_features=128, out_features=64, bias=True)\n",
      "    (10): ReLU()\n",
      "    (11): Dropout(p=0.5, inplace=False)\n",
      "    (12): Linear(in_features=64, out_features=10, bias=True)\n",
      "  )\n",
      ")\n"
     ]
    }
   ],
   "source": [
    "# Get cpu, gpu or mps device for training.\n",
    "device = (\n",
    "    \"cuda\"\n",
    "    if torch.cuda.is_available()\n",
    "    else \"mps\"\n",
    "    if torch.backends.mps.is_available()\n",
    "    else \"cpu\"\n",
    ")\n",
    "print(f\"Using {device} device\")\n",
    "\n",
    "\n",
    "# Define model\n",
    "class NeuralNetwork(nn.Module):\n",
    "    def __init__(self):\n",
    "        super().__init__()\n",
    "        self.flatten = nn.Flatten()                      # This lines assign the 'nn.Flatten()' function to the 'flatten' attribute (that will be called in the forward pass)\n",
    "        \n",
    "        # 4 Hidden layers\n",
    "        self.linear_relu_stack = nn.Sequential(\n",
    "            nn.Linear(57, 512),\n",
    "            nn.ReLU(),\n",
    "            nn.Dropout(0.2),\n",
    "            nn.Linear(512, 256),\n",
    "            nn.ReLU(),\n",
    "            nn.Dropout(0.2),\n",
    "            nn.Linear(256, 128),\n",
    "            nn.ReLU(),\n",
    "            nn.Dropout(0.2),\n",
    "            nn.Linear(128, 64),\n",
    "            nn.ReLU(),\n",
    "            nn.Dropout(0.5),\n",
    "            nn.Linear(64, 10),\n",
    "        )\n",
    "\n",
    "    # Here we define the behaviour of the forward pass\n",
    "    def forward(self, x):\n",
    "        #x = self.flatten(x)                             \n",
    "        logits = self.linear_relu_stack(x)               # 'logits' are the raw output of the final layer in the NN\n",
    "        return logits                                    #  (the pre activations of the last layer before applying the last activation function (like softmax))\n",
    "\n",
    "\n",
    "# Our model\n",
    "model = NeuralNetwork().to(device)\n",
    "print(model)"
   ]
  },
  {
   "cell_type": "markdown",
   "metadata": {},
   "source": [
    "## Training the model"
   ]
  },
  {
   "cell_type": "markdown",
   "metadata": {},
   "source": [
    "Here we choose the optimizers"
   ]
  },
  {
   "cell_type": "code",
   "execution_count": 36,
   "metadata": {},
   "outputs": [],
   "source": [
    "loss_fn = nn.CrossEntropyLoss()\n",
    "optimizer = torch.optim.Adam(model.parameters(), lr=1e-3)#, weight_decay=1e-4)"
   ]
  },
  {
   "cell_type": "markdown",
   "metadata": {},
   "source": [
    "Training loop: the model makes predictions on the training dataset (fed to it in batches), and\n",
    "backpropagates the prediction error to adjust the model's parameters.  (code from the official pytorch tutorials)"
   ]
  },
  {
   "cell_type": "code",
   "execution_count": 37,
   "metadata": {},
   "outputs": [],
   "source": [
    "def train(dataloader, model, loss_fn, optimizer):\n",
    "    size = len(dataloader.dataset)\n",
    "\n",
    "    # Sets the model in 'training' mode\n",
    "    model.train()                                        #  This helps inform layers such as Dropout and BatchNorm, which are\n",
    "                                                         #   designed to behave differently during training and evaluation.\n",
    "    for batch, (X, y) in enumerate(dataloader):\n",
    "        X, y = X.to(device), y.to(device)               # '.to(device)' allows you to move the data to the device you are using (ex. GPU memory)\n",
    "\n",
    "        # Compute prediction error\n",
    "        pred = model(X)\n",
    "        # print(X.shape, y.shape)\n",
    "        loss = loss_fn(pred, y)\n",
    "\n",
    "        # Backpropagation\n",
    "        loss.backward()\n",
    "        optimizer.step()\n",
    "        optimizer.zero_grad()                            # This command resets the gradients (pytorch acumulates them by default)\n",
    "\n",
    "\n",
    "    print(f\"loss: {loss:>7f}\")\n",
    "    return loss.item()            # print(f\"loss: {loss:>7f}  [{current:>5d}/{size:>5d}]\")"
   ]
  },
  {
   "cell_type": "markdown",
   "metadata": {},
   "source": [
    "We also check the model's performance against the test dataset to ensure it is learning.\n",
    "\n"
   ]
  },
  {
   "cell_type": "code",
   "execution_count": 38,
   "metadata": {},
   "outputs": [],
   "source": [
    "def test_loss(dataloader, model, loss_fn):\n",
    "    num_batches = len(dataloader)                   # c'e' un problema, il batch è 10!!!\n",
    "\n",
    "    # Sets the model in 'evaluation' mode\n",
    "    model.eval()\n",
    "\n",
    "    test_loss = 0\n",
    "\n",
    "    # Temporarily disable gradients computation\n",
    "    with torch.no_grad():                                 # This disables the memorization of the activation functions during the forward pass\n",
    "        for X, y in dataloader:                           #  (they are used in the backprop phase to compute the gradients)\n",
    "            X, y = X.to(device), y.to(device)     \n",
    "            pred = model(X)\n",
    "            test_loss += loss_fn(pred, y).item()\n",
    "\n",
    "    test_loss /= num_batches\n",
    "    return test_loss"
   ]
  },
  {
   "cell_type": "code",
   "execution_count": 39,
   "metadata": {},
   "outputs": [],
   "source": [
    "def test_accuracy(dataloader, model):\n",
    "    size = len(dataloader.dataset)\n",
    "\n",
    "\n",
    "    # Sets the model in 'evaluation' mode\n",
    "    model.eval()\n",
    "\n",
    "    correct = 0\n",
    "\n",
    "    # Temporarily disable gradients computation\n",
    "    with torch.no_grad():                                 # This disables the memorization of the activation functions during the forward pass\n",
    "        for X, y in dataloader:                           #  (they are used in the backprop phase to compute the gradients)\n",
    "            X, y = X.to(device), y.to(device)     \n",
    "            pred = model(X)\n",
    "            correct += (pred.argmax(1) == y).type(torch.float).sum().item()     # The prediction is the argmax of the last layer\n",
    "    correct /= size \n",
    "    return correct\n",
    "\n",
    "    print(f\"Test Error: \\n Accuracy: {(100*correct):>0.1f}%\")\n",
    "    # return correct"
   ]
  },
  {
   "cell_type": "markdown",
   "metadata": {},
   "source": [
    "Training process"
   ]
  },
  {
   "cell_type": "code",
   "execution_count": 40,
   "metadata": {},
   "outputs": [
    {
     "name": "stdout",
     "output_type": "stream",
     "text": [
      "Epoch 1\n",
      "-------------------------------\n",
      "loss: 1.471004\n",
      "Epoch 2\n",
      "-------------------------------\n",
      "loss: 1.083304\n",
      "Epoch 3\n",
      "-------------------------------\n",
      "loss: 0.839373\n",
      "Epoch 4\n",
      "-------------------------------\n",
      "loss: 0.840694\n",
      "Epoch 5\n",
      "-------------------------------\n",
      "loss: 0.690303\n",
      "Epoch 6\n",
      "-------------------------------\n",
      "loss: 0.616821\n",
      "Epoch 7\n",
      "-------------------------------\n",
      "loss: 0.449965\n",
      "Epoch 8\n",
      "-------------------------------\n",
      "loss: 0.477624\n",
      "Epoch 9\n",
      "-------------------------------\n",
      "loss: 0.594872\n",
      "Epoch 10\n",
      "-------------------------------\n",
      "loss: 0.319671\n",
      "Epoch 11\n",
      "-------------------------------\n",
      "loss: 0.397482\n",
      "Epoch 12\n",
      "-------------------------------\n",
      "loss: 0.387369\n",
      "Epoch 13\n",
      "-------------------------------\n",
      "loss: 0.268237\n",
      "Epoch 14\n",
      "-------------------------------\n",
      "loss: 0.280149\n",
      "Epoch 15\n",
      "-------------------------------\n",
      "loss: 0.343138\n",
      "Epoch 16\n",
      "-------------------------------\n",
      "loss: 0.297255\n",
      "Epoch 17\n",
      "-------------------------------\n",
      "loss: 0.209946\n",
      "Epoch 18\n",
      "-------------------------------\n",
      "loss: 0.150864\n",
      "Epoch 19\n",
      "-------------------------------\n",
      "loss: 0.197581\n",
      "Epoch 20\n",
      "-------------------------------\n",
      "loss: 0.430584\n",
      "Epoch 21\n",
      "-------------------------------\n",
      "loss: 0.297402\n",
      "Epoch 22\n",
      "-------------------------------\n",
      "loss: 0.177690\n",
      "Epoch 23\n",
      "-------------------------------\n",
      "loss: 0.235486\n",
      "Epoch 24\n",
      "-------------------------------\n",
      "loss: 0.266306\n",
      "Epoch 25\n",
      "-------------------------------\n",
      "loss: 0.111381\n",
      "Epoch 26\n",
      "-------------------------------\n",
      "loss: 0.166267\n",
      "Epoch 27\n",
      "-------------------------------\n",
      "loss: 0.183179\n",
      "Epoch 28\n",
      "-------------------------------\n",
      "loss: 0.131577\n",
      "Epoch 29\n",
      "-------------------------------\n",
      "loss: 0.070050\n",
      "Epoch 30\n",
      "-------------------------------\n",
      "loss: 0.127834\n",
      "Epoch 31\n",
      "-------------------------------\n",
      "loss: 0.051198\n",
      "Epoch 32\n",
      "-------------------------------\n",
      "loss: 0.126559\n",
      "Epoch 33\n",
      "-------------------------------\n",
      "loss: 0.219353\n",
      "Epoch 34\n",
      "-------------------------------\n",
      "loss: 0.079716\n",
      "Epoch 35\n",
      "-------------------------------\n",
      "loss: 0.070023\n",
      "Epoch 36\n",
      "-------------------------------\n",
      "loss: 0.074460\n",
      "Epoch 37\n",
      "-------------------------------\n",
      "loss: 0.050405\n",
      "Epoch 38\n",
      "-------------------------------\n",
      "loss: 0.065054\n",
      "Epoch 39\n",
      "-------------------------------\n",
      "loss: 0.116135\n",
      "Epoch 40\n",
      "-------------------------------\n",
      "loss: 0.084984\n",
      "Epoch 41\n",
      "-------------------------------\n",
      "loss: 0.251354\n",
      "Epoch 42\n",
      "-------------------------------\n",
      "loss: 0.045854\n",
      "Epoch 43\n",
      "-------------------------------\n",
      "loss: 0.081985\n",
      "Epoch 44\n",
      "-------------------------------\n",
      "loss: 0.039289\n",
      "Epoch 45\n",
      "-------------------------------\n",
      "loss: 0.061935\n",
      "Epoch 46\n",
      "-------------------------------\n",
      "loss: 0.213155\n",
      "Epoch 47\n",
      "-------------------------------\n",
      "loss: 0.078958\n",
      "Epoch 48\n",
      "-------------------------------\n",
      "loss: 0.153036\n",
      "Epoch 49\n",
      "-------------------------------\n",
      "loss: 0.206735\n",
      "Epoch 50\n",
      "-------------------------------\n",
      "loss: 0.053419\n",
      "Epoch 51\n",
      "-------------------------------\n",
      "loss: 0.128033\n",
      "Epoch 52\n",
      "-------------------------------\n",
      "loss: 0.039126\n",
      "Epoch 53\n",
      "-------------------------------\n",
      "loss: 0.016552\n",
      "Epoch 54\n",
      "-------------------------------\n",
      "loss: 0.079788\n",
      "Epoch 55\n",
      "-------------------------------\n",
      "loss: 0.053105\n",
      "Epoch 56\n",
      "-------------------------------\n",
      "loss: 0.030512\n",
      "Epoch 57\n",
      "-------------------------------\n",
      "loss: 0.047409\n",
      "Epoch 58\n",
      "-------------------------------\n",
      "loss: 0.124540\n",
      "Epoch 59\n",
      "-------------------------------\n",
      "loss: 0.075166\n",
      "Epoch 60\n",
      "-------------------------------\n",
      "loss: 0.076237\n",
      "Epoch 61\n",
      "-------------------------------\n",
      "loss: 0.024500\n",
      "Epoch 62\n",
      "-------------------------------\n",
      "loss: 0.015296\n",
      "Epoch 63\n",
      "-------------------------------\n",
      "loss: 0.029492\n",
      "Epoch 64\n",
      "-------------------------------\n",
      "loss: 0.024504\n",
      "Epoch 65\n",
      "-------------------------------\n",
      "loss: 0.065899\n",
      "Epoch 66\n",
      "-------------------------------\n",
      "loss: 0.156440\n",
      "Epoch 67\n",
      "-------------------------------\n",
      "loss: 0.144388\n",
      "Epoch 68\n",
      "-------------------------------\n",
      "loss: 0.044964\n",
      "Epoch 69\n",
      "-------------------------------\n",
      "loss: 0.066950\n",
      "Epoch 70\n",
      "-------------------------------\n",
      "loss: 0.087010\n",
      "Epoch 71\n",
      "-------------------------------\n",
      "loss: 0.026312\n",
      "Epoch 72\n",
      "-------------------------------\n",
      "loss: 0.024196\n",
      "Epoch 73\n",
      "-------------------------------\n",
      "loss: 0.041641\n",
      "Epoch 74\n",
      "-------------------------------\n",
      "loss: 0.031482\n",
      "Epoch 75\n",
      "-------------------------------\n",
      "loss: 0.036292\n",
      "Epoch 76\n",
      "-------------------------------\n",
      "loss: 0.104212\n",
      "Epoch 77\n",
      "-------------------------------\n",
      "loss: 0.023121\n",
      "Epoch 78\n",
      "-------------------------------\n",
      "loss: 0.046015\n",
      "Epoch 79\n",
      "-------------------------------\n",
      "loss: 0.022078\n",
      "Epoch 80\n",
      "-------------------------------\n",
      "loss: 0.100743\n",
      "Done!\n",
      "90.90%\n"
     ]
    },
    {
     "data": {
      "text/plain": [
       "<matplotlib.legend.Legend at 0x10f4e9bc950>"
      ]
     },
     "execution_count": 40,
     "metadata": {},
     "output_type": "execute_result"
    },
    {
     "data": {
      "image/png": "[encoded data removed]",
      "text/plain": [
       "<Figure size 1000x500 with 2 Axes>"
      ]
     },
     "metadata": {},
     "output_type": "display_data"
    }
   ],
   "source": [
    "epochs = 80\n",
    "\n",
    "# Histories\n",
    "train_history = list()\n",
    "validation_history = list()\n",
    "accuracy_test_history = list()\n",
    "accuracy_train_history = list()\n",
    "\n",
    "# Training loop\n",
    "for t in range(epochs):\n",
    "    print(f\"Epoch {t+1}\\n-------------------------------\")\n",
    "    train_loss = train(train_dataloader, model, loss_fn, optimizer)\n",
    "    validation_loss = test_loss(test_dataloader, model, loss_fn)\n",
    "\n",
    "\n",
    "    train_history.append(train_loss)\n",
    "    validation_history.append(validation_loss)\n",
    "    accuracy_test_history.append(test_accuracy(test_dataloader, model))\n",
    "    accuracy_train_history.append(test_accuracy(train_dataloader, model))\n",
    "print(\"Done!\")\n",
    "\n",
    "print(f\"{test_accuracy(test_dataloader, model)*100:.2f}%\")\n",
    "\n",
    "\n",
    "# Plots\n",
    "fig, axs = plt.subplots(1,2, figsize=(10, 5))\n",
    "\n",
    "# Training and validation loss\n",
    "axs[0].plot(train_history, label = 'train')\n",
    "axs[0].plot(validation_history, label = 'validation')\n",
    "axs[0].set_xlabel(\"epoch\")\n",
    "axs[0].set_ylabel(\"loss\")\n",
    "axs[0].set_title(\"Training and validation loss\")\n",
    "axs[0].legend()\n",
    "\n",
    "# Accuracy\n",
    "axs[1].plot(accuracy_test_history, label = 'test accuracy')\n",
    "axs[1].plot(accuracy_train_history, label = 'train accuracy')\n",
    "axs[1].set_xlabel(\"epoch\")\n",
    "axs[1].set_ylabel(\"accuracy\")\n",
    "axs[1].set_title(\"Test accuracy\")\n",
    "axs[1].legend()"
   ]
  },
  {
   "cell_type": "markdown",
   "metadata": {},
   "source": [
    "# Saving the models"
   ]
  },
  {
   "cell_type": "markdown",
   "metadata": {},
   "source": [
    "This code saves the full model:"
   ]
  },
  {
   "cell_type": "code",
   "execution_count": 41,
   "metadata": {},
   "outputs": [],
   "source": [
    "torch.save(model, 'models\\\\model_weights_3_s.pth')"
   ]
  },
  {
   "cell_type": "markdown",
   "metadata": {},
   "source": [
    "To Load and use the model do:"
   ]
  },
  {
   "cell_type": "code",
   "execution_count": 42,
   "metadata": {},
   "outputs": [],
   "source": [
    "model = torch.load('models\\\\model_weights_3_s.pth')\n",
    "#model.eval()  # Set the model to evaluation mode"
   ]
  }
 ],
 "metadata": {
  "kernelspec": {
   "display_name": "SublimeTextEnv",
   "language": "python",
   "name": "python3"
  },
  "language_info": {
   "codemirror_mode": {
    "name": "ipython",
    "version": 3
   },
   "file_extension": ".py",
   "mimetype": "text/x-python",
   "name": "python",
   "nbconvert_exporter": "python",
   "pygments_lexer": "ipython3",
   "version": "3.11.5"
  }
 },
 "nbformat": 4,
 "nbformat_minor": 2
}
